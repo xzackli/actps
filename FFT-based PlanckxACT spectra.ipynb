{
 "cells": [
  {
   "cell_type": "code",
   "execution_count": 1,
   "metadata": {},
   "outputs": [],
   "source": [
    "import numpy as np\n",
    "import scipy\n",
    "import matplotlib.pyplot as plt\n",
    "\n",
    "from soapack import interfaces\n",
    "from pixell import enmap\n",
    "from pixell import enplot\n",
    "import pymaster as nmt"
   ]
  },
  {
   "cell_type": "markdown",
   "metadata": {},
   "source": [
    "# Utility Functions"
   ]
  },
  {
   "cell_type": "code",
   "execution_count": 2,
   "metadata": {},
   "outputs": [],
   "source": [
    "def eshow(x,**kwargs): enplot.show(enplot.plot(x, downgrade=4,**kwargs))"
   ]
  },
  {
   "cell_type": "markdown",
   "metadata": {},
   "source": [
    "We seek to plot some ACTxACT, PlanckxPlanck, and ACTxPlanck cross spectra. Here we get the coadds from the two Planck half-missions."
   ]
  },
  {
   "cell_type": "code",
   "execution_count": 3,
   "metadata": {},
   "outputs": [],
   "source": [
    "def get_planck_coadd(freq, dmp):\n",
    "    psplit0 = dmp.get_split(freq, splitnum=0, ncomp=1, srcfree=True)\n",
    "    psplit1 = dmp.get_split(freq, splitnum=1, ncomp=1, srcfree=True)\n",
    "    psplit0_i = dmp.get_split_ivar(freq, splitnum=0, ncomp=1, srcfree=True)\n",
    "    psplit1_i = dmp.get_split_ivar(freq, splitnum=1, ncomp=1, srcfree=True)\n",
    "    weighted = (psplit0_i * psplit0 + psplit1 * psplit1_i) / (psplit0_i + psplit1_i)\n",
    "    weighted[np.isnan(weighted)] = 0.0\n",
    "    return weighted"
   ]
  },
  {
   "cell_type": "markdown",
   "metadata": {},
   "source": [
    "Here is where we do a crappy job of estimating power spectra."
   ]
  },
  {
   "cell_type": "code",
   "execution_count": 4,
   "metadata": {},
   "outputs": [],
   "source": [
    "lmax = 8000\n",
    "beam_ells = np.arange(lmax+1)\n",
    "\n",
    "def bin(data,modlmap,bin_edges):\n",
    "    digitized = np.digitize(np.ndarray.flatten(modlmap), bin_edges,right=True)\n",
    "    return np.bincount(digitized,(data).reshape(-1))[1:-1]/np.bincount(digitized)[1:-1]\n",
    "\n",
    "def compute_ps(map1, map2, mask, beam1, beam2):\n",
    "    \"\"\"Compute the FFTs, multiply, bin\n",
    "    \n",
    "    Beams are multiplied at bin centers.\n",
    "    \"\"\"\n",
    "    kmap1 = enmap.fft(map1*mask, normalize=\"phys\")\n",
    "    kmap2 = enmap.fft(map2*mask, normalize=\"phys\")\n",
    "    power = (kmap1*np.conj(kmap2)).real\n",
    "    \n",
    "    bin_edges = np.arange(0,8000,40)\n",
    "    centers = (bin_edges[1:] + bin_edges[:-1])/2.\n",
    "    w2 = np.mean(mask**2.)\n",
    "    modlmap = enmap.modlmap(map1.shape,map1.wcs)\n",
    "    binned_power = bin(power/w2,modlmap,bin_edges)\n",
    "    binned_power *= beam1[centers.astype(int)]\n",
    "    binned_power *= beam2[centers.astype(int)]\n",
    "    return centers, binned_power"
   ]
  },
  {
   "cell_type": "markdown",
   "metadata": {},
   "source": [
    "# ACTxPlanck"
   ]
  },
  {
   "cell_type": "markdown",
   "metadata": {},
   "source": [
    "coadded ACT x coadded Planck"
   ]
  },
  {
   "cell_type": "code",
   "execution_count": 5,
   "metadata": {},
   "outputs": [
    {
     "name": "stdout",
     "output_type": "stream",
     "text": [
      "Can't find this ACT map: s14 pa3_f090\n",
      "Can't find this ACT map: s14 pa3_f150\n",
      "Can't find this ACT map: s16 pa1_f150\n",
      "Can't find this ACT map: s16 pa2_f150\n",
      "Can't find this ACT map: s16 pa3_f090\n",
      "Can't find this ACT map: s16 pa3_f150\n",
      "Can't find this ACT map: s14 pa3_f090\n",
      "Can't find this ACT map: s14 pa3_f150\n",
      "Can't find this ACT map: s16 pa1_f150\n",
      "Can't find this ACT map: s16 pa2_f150\n",
      "Can't find this ACT map: s16 pa3_f090\n",
      "Can't find this ACT map: s16 pa3_f150\n",
      "Can't find this ACT map: s14 pa3_f090\n",
      "Can't find this ACT map: s14 pa3_f150\n",
      "Can't find this ACT map: s16 pa1_f150\n",
      "Can't find this ACT map: s16 pa2_f150\n",
      "Can't find this ACT map: s16 pa3_f090\n",
      "Can't find this ACT map: s16 pa3_f150\n",
      "Can't find this ACT map: s14 pa3_f090\n",
      "Can't find this ACT map: s14 pa3_f150\n",
      "Can't find this ACT map: s16 pa1_f150\n",
      "Can't find this ACT map: s16 pa2_f150\n",
      "Can't find this ACT map: s16 pa3_f090\n",
      "Can't find this ACT map: s16 pa3_f150\n",
      "Can't find this ACT map: s14 pa3_f090\n",
      "Can't find this ACT map: s14 pa3_f150\n",
      "Can't find this ACT map: s16 pa1_f150\n",
      "Can't find this ACT map: s16 pa2_f150\n",
      "Can't find this ACT map: s16 pa3_f090\n",
      "Can't find this ACT map: s16 pa3_f150\n",
      "Can't find this ACT map: s14 pa3_f090\n",
      "Can't find this ACT map: s14 pa3_f150\n",
      "Can't find this ACT map: s16 pa1_f150\n",
      "Can't find this ACT map: s16 pa2_f150\n",
      "Can't find this ACT map: s16 pa3_f090\n",
      "Can't find this ACT map: s16 pa3_f150\n",
      "Can't find this ACT map: s14 pa3_f090\n",
      "Can't find this ACT map: s14 pa3_f150\n",
      "Can't find this ACT map: s16 pa1_f150\n",
      "Can't find this ACT map: s16 pa2_f150\n",
      "Can't find this ACT map: s16 pa3_f090\n",
      "Can't find this ACT map: s16 pa3_f150\n",
      "Can't find this ACT map: s14 pa3_f090\n",
      "Can't find this ACT map: s14 pa3_f150\n",
      "Can't find this ACT map: s16 pa1_f150\n",
      "Can't find this ACT map: s16 pa2_f150\n",
      "Can't find this ACT map: s16 pa3_f090\n",
      "Can't find this ACT map: s16 pa3_f150\n",
      "Can't find this ACT map: s14 pa1_f150\n",
      "Can't find this ACT map: s14 pa2_f150\n",
      "Can't find this ACT map: s14 pa3_f090\n",
      "Can't find this ACT map: s14 pa3_f150\n",
      "Can't find this ACT map: s16 pa1_f150\n",
      "Can't find this ACT map: s16 pa2_f150\n",
      "Can't find this ACT map: s16 pa3_f090\n",
      "Can't find this ACT map: s16 pa3_f150\n",
      "Can't find this ACT map: s14 pa1_f150\n",
      "Can't find this ACT map: s14 pa2_f150\n",
      "Can't find this ACT map: s14 pa3_f090\n",
      "Can't find this ACT map: s14 pa3_f150\n",
      "Can't find this ACT map: s16 pa1_f150\n",
      "Can't find this ACT map: s16 pa2_f150\n",
      "Can't find this ACT map: s16 pa3_f090\n",
      "Can't find this ACT map: s16 pa3_f150\n",
      "Can't find this ACT map: s14 pa1_f150\n",
      "Can't find this ACT map: s14 pa2_f150\n",
      "Can't find this ACT map: s14 pa3_f090\n",
      "Can't find this ACT map: s14 pa3_f150\n",
      "Can't find this ACT map: s16 pa1_f150\n",
      "Can't find this ACT map: s16 pa2_f150\n",
      "Can't find this ACT map: s16 pa3_f090\n",
      "Can't find this ACT map: s16 pa3_f150\n",
      "Can't find this ACT map: s14 pa1_f150\n",
      "Can't find this ACT map: s14 pa2_f150\n",
      "Can't find this ACT map: s14 pa3_f090\n",
      "Can't find this ACT map: s14 pa3_f150\n",
      "Can't find this ACT map: s16 pa1_f150\n",
      "Can't find this ACT map: s16 pa2_f150\n",
      "Can't find this ACT map: s16 pa3_f090\n",
      "Can't find this ACT map: s16 pa3_f150\n",
      "Can't find this ACT map: s14 pa1_f150\n",
      "Can't find this ACT map: s14 pa2_f150\n",
      "Can't find this ACT map: s14 pa3_f090\n",
      "Can't find this ACT map: s14 pa3_f150\n",
      "Can't find this ACT map: s16 pa1_f150\n",
      "Can't find this ACT map: s16 pa2_f150\n",
      "Can't find this ACT map: s16 pa3_f090\n",
      "Can't find this ACT map: s16 pa3_f150\n",
      "Can't find this ACT map: s14 pa1_f150\n",
      "Can't find this ACT map: s14 pa2_f150\n",
      "Can't find this ACT map: s14 pa3_f090\n",
      "Can't find this ACT map: s14 pa3_f150\n",
      "Can't find this ACT map: s16 pa1_f150\n",
      "Can't find this ACT map: s16 pa2_f150\n",
      "Can't find this ACT map: s16 pa3_f090\n",
      "Can't find this ACT map: s16 pa3_f150\n",
      "Can't find this ACT map: s14 pa1_f150\n",
      "Can't find this ACT map: s14 pa2_f150\n",
      "Can't find this ACT map: s14 pa3_f090\n",
      "Can't find this ACT map: s14 pa3_f150\n",
      "Can't find this ACT map: s16 pa1_f150\n",
      "Can't find this ACT map: s16 pa2_f150\n",
      "Can't find this ACT map: s16 pa3_f090\n",
      "Can't find this ACT map: s16 pa3_f150\n",
      "Can't find this ACT map: s14 pa1_f150\n",
      "Can't find this ACT map: s14 pa2_f150\n",
      "Can't find this ACT map: s14 pa3_f090\n",
      "Can't find this ACT map: s14 pa3_f150\n",
      "Can't find this ACT map: s16 pa1_f150\n",
      "Can't find this ACT map: s16 pa2_f150\n",
      "Can't find this ACT map: s16 pa3_f090\n",
      "Can't find this ACT map: s16 pa3_f150\n"
     ]
    }
   ],
   "source": [
    "ACT_planck = {}\n",
    "\n",
    "for patch in ['deep56', 'boss']:\n",
    "    mask = interfaces.get_act_mr3_crosslinked_mask(patch)\n",
    "    dma = interfaces.ACTmr3(region=mask)\n",
    "    dmp = interfaces.PlanckHybrid(region=mask)\n",
    "    # we loop over all pairs of Planck x ACT\n",
    "    for planckfreq in ['030','044','070','100','143','217','353','545']: # no '857'\n",
    "        planckbeam = dmp.get_beam(beam_ells, planckfreq)\n",
    "        planckmap = get_planck_coadd(planckfreq, dmp)[0,:,:]\n",
    "\n",
    "        for actseason in ['s14','s15']:\n",
    "            for array in ['pa1_f150', 'pa2_f150', 'pa3_f090', 'pa3_f150']:\n",
    "                try:\n",
    "                    actbeam = dma.get_beam(beam_ells, actseason, \n",
    "                                           patch, array)\n",
    "                    actmap = dma.get_coadd(actseason, \n",
    "                                           patch, array, ncomp=1, \n",
    "                                           srcfree=True)[0,:,:] # just want T\n",
    "                    lb, Cb = compute_ps(planckmap, actmap, mask, planckbeam, actbeam)\n",
    "                    ACT_planck[(patch, planckfreq, actseason, array)] = (lb, Cb)\n",
    "                except OSError:\n",
    "                    print(\"Can't find this ACT map:\", actseason, array)"
   ]
  },
  {
   "cell_type": "code",
   "execution_count": 10,
   "metadata": {},
   "outputs": [],
   "source": [
    "import pickle\n",
    "\n",
    "with open('for_mat/ACT_planck.pickle', 'wb') as handle:\n",
    "    pickle.dump(ACT_planck, handle, protocol=pickle.HIGHEST_PROTOCOL)"
   ]
  },
  {
   "cell_type": "markdown",
   "metadata": {},
   "source": [
    "# Planck x Planck (different freqs)\n",
    "I use coadded planck x coadded planck"
   ]
  },
  {
   "cell_type": "code",
   "execution_count": 11,
   "metadata": {},
   "outputs": [],
   "source": [
    "planck_planck = {}\n",
    "\n",
    "for planckfreq0 in ['030','044','070','100','143','217','353','545']:\n",
    "    mask = interfaces.get_act_mr3_crosslinked_mask(patch)\n",
    "    dmp = interfaces.PlanckHybrid(region=mask)\n",
    "    # we loop over all pairs of Planck x Planck\n",
    "    planckbeam0 = dmp.get_beam(beam_ells, planckfreq0)\n",
    "    planckmap0 = get_planck_coadd(planckfreq0, dmp)[0,:,:]\n",
    "    for planckfreq1 in ['030','044','070','100','143','217','353','545']:\n",
    "        if float(planckfreq0) < float(planckfreq1):\n",
    "            planckbeam1 = dmp.get_beam(beam_ells, planckfreq1)\n",
    "            planckmap1 = get_planck_coadd(planckfreq1, dmp)[0,:,:]\n",
    "            lb, Cb = compute_ps(planckmap0, planckmap1, mask, planckbeam0, planckbeam1)\n",
    "            planck_planck[planckfreq0, planckfreq1] = (lb, Cb)"
   ]
  },
  {
   "cell_type": "markdown",
   "metadata": {},
   "source": [
    "# Planck x Planck (same freq)\n",
    "These are spectra for which $f_0 = f_1$, so I use half missions."
   ]
  },
  {
   "cell_type": "code",
   "execution_count": 36,
   "metadata": {},
   "outputs": [],
   "source": [
    "for planckfreq in ['030','044','070','100','143','217','353','545']:\n",
    "    mask = interfaces.get_act_mr3_crosslinked_mask(patch)\n",
    "    dmp = interfaces.PlanckHybrid(region=mask)\n",
    "    # we loop over all pairs of Planck x Planck\n",
    "    planckbeam = dmp.get_beam(beam_ells, planckfreq)\n",
    "    planckmap0 = dmp.get_split(planckfreq, splitnum=0, ncomp=1, srcfree=True)\n",
    "    planckmap1 = dmp.get_split(planckfreq, splitnum=1, ncomp=1, srcfree=True)\n",
    "    \n",
    "    lb, Cb = compute_ps(planckmap0, planckmap1, mask, planckbeam, planckbeam)\n",
    "    planck_planck[(planckfreq, planckfreq)] = (lb, Cb)"
   ]
  },
  {
   "cell_type": "code",
   "execution_count": 37,
   "metadata": {},
   "outputs": [],
   "source": [
    "with open('for_mat/Planck_Planck.pickle', 'wb') as handle:\n",
    "    pickle.dump(planck_planck, handle, protocol=pickle.HIGHEST_PROTOCOL)"
   ]
  },
  {
   "cell_type": "code",
   "execution_count": null,
   "metadata": {},
   "outputs": [],
   "source": []
  },
  {
   "cell_type": "markdown",
   "metadata": {},
   "source": [
    "# ACT x ACT\n",
    "Different seasons/arrays - can use just the coadds"
   ]
  },
  {
   "cell_type": "code",
   "execution_count": 19,
   "metadata": {},
   "outputs": [
    {
     "name": "stdout",
     "output_type": "stream",
     "text": [
      "Can't find this ACT map: s14 pa1_f150 s14 pa3_f090\n",
      "Can't find this ACT map: s14 pa1_f150 s14 pa3_f150\n",
      "Can't find this ACT map: s14 pa2_f150 s14 pa3_f090\n",
      "Can't find this ACT map: s14 pa2_f150 s14 pa3_f150\n",
      "Can't find this ACT map: s14 pa3_f090 s14 pa1_f150\n",
      "Can't find this ACT map: s14 pa3_f090 s14 pa2_f150\n",
      "Can't find this ACT map: s14 pa3_f090 s14 pa3_f150\n",
      "Can't find this ACT map: s14 pa3_f090 s15 pa1_f150\n",
      "Can't find this ACT map: s14 pa3_f090 s15 pa2_f150\n",
      "Can't find this ACT map: s14 pa3_f090 s15 pa3_f090\n",
      "Can't find this ACT map: s14 pa3_f090 s15 pa3_f150\n",
      "Can't find this ACT map: s14 pa3_f150 s14 pa1_f150\n",
      "Can't find this ACT map: s14 pa3_f150 s14 pa2_f150\n",
      "Can't find this ACT map: s14 pa3_f150 s14 pa3_f090\n",
      "Can't find this ACT map: s14 pa3_f150 s15 pa1_f150\n",
      "Can't find this ACT map: s14 pa3_f150 s15 pa2_f150\n",
      "Can't find this ACT map: s14 pa3_f150 s15 pa3_f090\n",
      "Can't find this ACT map: s14 pa3_f150 s15 pa3_f150\n",
      "Can't find this ACT map: s15 pa1_f150 s14 pa3_f090\n",
      "Can't find this ACT map: s15 pa1_f150 s14 pa3_f150\n",
      "Can't find this ACT map: s15 pa2_f150 s14 pa3_f090\n",
      "Can't find this ACT map: s15 pa2_f150 s14 pa3_f150\n",
      "Can't find this ACT map: s15 pa3_f090 s14 pa3_f090\n",
      "Can't find this ACT map: s15 pa3_f090 s14 pa3_f150\n",
      "Can't find this ACT map: s15 pa3_f150 s14 pa3_f090\n",
      "Can't find this ACT map: s15 pa3_f150 s14 pa3_f150\n",
      "Can't find this ACT map: s14 pa1_f150 s14 pa2_f150\n",
      "Can't find this ACT map: s14 pa1_f150 s14 pa3_f090\n",
      "Can't find this ACT map: s14 pa1_f150 s14 pa3_f150\n",
      "Can't find this ACT map: s14 pa1_f150 s15 pa1_f150\n",
      "Can't find this ACT map: s14 pa1_f150 s15 pa2_f150\n",
      "Can't find this ACT map: s14 pa1_f150 s15 pa3_f090\n",
      "Can't find this ACT map: s14 pa1_f150 s15 pa3_f150\n",
      "Can't find this ACT map: s14 pa2_f150 s14 pa1_f150\n",
      "Can't find this ACT map: s14 pa2_f150 s14 pa3_f090\n",
      "Can't find this ACT map: s14 pa2_f150 s14 pa3_f150\n",
      "Can't find this ACT map: s14 pa2_f150 s15 pa1_f150\n",
      "Can't find this ACT map: s14 pa2_f150 s15 pa2_f150\n",
      "Can't find this ACT map: s14 pa2_f150 s15 pa3_f090\n",
      "Can't find this ACT map: s14 pa2_f150 s15 pa3_f150\n",
      "Can't find this ACT map: s14 pa3_f090 s14 pa1_f150\n",
      "Can't find this ACT map: s14 pa3_f090 s14 pa2_f150\n",
      "Can't find this ACT map: s14 pa3_f090 s14 pa3_f150\n",
      "Can't find this ACT map: s14 pa3_f090 s15 pa1_f150\n",
      "Can't find this ACT map: s14 pa3_f090 s15 pa2_f150\n",
      "Can't find this ACT map: s14 pa3_f090 s15 pa3_f090\n",
      "Can't find this ACT map: s14 pa3_f090 s15 pa3_f150\n",
      "Can't find this ACT map: s14 pa3_f150 s14 pa1_f150\n",
      "Can't find this ACT map: s14 pa3_f150 s14 pa2_f150\n",
      "Can't find this ACT map: s14 pa3_f150 s14 pa3_f090\n",
      "Can't find this ACT map: s14 pa3_f150 s15 pa1_f150\n",
      "Can't find this ACT map: s14 pa3_f150 s15 pa2_f150\n",
      "Can't find this ACT map: s14 pa3_f150 s15 pa3_f090\n",
      "Can't find this ACT map: s14 pa3_f150 s15 pa3_f150\n",
      "Can't find this ACT map: s15 pa1_f150 s14 pa1_f150\n",
      "Can't find this ACT map: s15 pa1_f150 s14 pa2_f150\n",
      "Can't find this ACT map: s15 pa1_f150 s14 pa3_f090\n",
      "Can't find this ACT map: s15 pa1_f150 s14 pa3_f150\n",
      "Can't find this ACT map: s15 pa2_f150 s14 pa1_f150\n",
      "Can't find this ACT map: s15 pa2_f150 s14 pa2_f150\n",
      "Can't find this ACT map: s15 pa2_f150 s14 pa3_f090\n",
      "Can't find this ACT map: s15 pa2_f150 s14 pa3_f150\n",
      "Can't find this ACT map: s15 pa3_f090 s14 pa1_f150\n",
      "Can't find this ACT map: s15 pa3_f090 s14 pa2_f150\n",
      "Can't find this ACT map: s15 pa3_f090 s14 pa3_f090\n",
      "Can't find this ACT map: s15 pa3_f090 s14 pa3_f150\n",
      "Can't find this ACT map: s15 pa3_f150 s14 pa1_f150\n",
      "Can't find this ACT map: s15 pa3_f150 s14 pa2_f150\n",
      "Can't find this ACT map: s15 pa3_f150 s14 pa3_f090\n",
      "Can't find this ACT map: s15 pa3_f150 s14 pa3_f150\n"
     ]
    }
   ],
   "source": [
    "act_act = {}\n",
    "\n",
    "for patch in ['deep56', 'boss']:\n",
    "    mask = interfaces.get_act_mr3_crosslinked_mask(patch)\n",
    "    dma = interfaces.ACTmr3(region=mask)\n",
    "    \n",
    "    # we loop over all pairs of ACT x ACT\n",
    "    for actseason0 in ['s14','s15']: # s13 doesn't have these patches\n",
    "        for array0 in ['pa1_f150', 'pa2_f150', 'pa3_f090', 'pa3_f150']:\n",
    "            \n",
    "            for actseason1 in ['s14','s15']: # s13 doesn't have these patches\n",
    "                for array1 in ['pa1_f150', 'pa2_f150', 'pa3_f090', 'pa3_f150']:\n",
    "                    \n",
    "                    if (actseason0 != actseason1 ) or (array0 != array1):\n",
    "                        try:\n",
    "                            actbeam0 = dma.get_beam(beam_ells, actseason0, patch, array0)\n",
    "                            actbeam1 = dma.get_beam(beam_ells, actseason1, patch, array1)\n",
    "\n",
    "                            actmap0 = dma.get_coadd(actseason0, patch, array0, \n",
    "                                                    ncomp=1, srcfree=True)[0,:,:] # just want T\n",
    "                            actmap1 = dma.get_coadd(actseason1, patch, array1, \n",
    "                                                    ncomp=1, srcfree=True)[0,:,:] # just want T\n",
    "                            lb, Cb = compute_ps(actmap0, actmap1, mask, actbeam0, actbeam1)\n",
    "                            act_act[(patch, actseason0, array0, actseason1, array1)] = (lb, Cb)\n",
    "                        except OSError:\n",
    "                            print(\"Can't find this ACT map:\", actseason0, array0, actseason1, array1)"
   ]
  },
  {
   "cell_type": "markdown",
   "metadata": {},
   "source": [
    "Same season, same array: cross spectra over the splits."
   ]
  },
  {
   "cell_type": "code",
   "execution_count": 23,
   "metadata": {},
   "outputs": [],
   "source": [
    "import itertools"
   ]
  },
  {
   "cell_type": "code",
   "execution_count": 33,
   "metadata": {},
   "outputs": [
    {
     "name": "stdout",
     "output_type": "stream",
     "text": [
      "Can't find this ACT map: s14 pa3_f090 s15 pa3_f150\n",
      "Can't find this ACT map: s14 pa3_f150 s15 pa3_f150\n",
      "Can't find this ACT map: s14 pa1_f150 s15 pa3_f150\n",
      "Can't find this ACT map: s14 pa2_f150 s15 pa3_f150\n",
      "Can't find this ACT map: s14 pa3_f090 s15 pa3_f150\n",
      "Can't find this ACT map: s14 pa3_f150 s15 pa3_f150\n"
     ]
    }
   ],
   "source": [
    "nsplits = 4\n",
    "for patch in ['deep56', 'boss']:\n",
    "    mask = interfaces.get_act_mr3_crosslinked_mask(patch)\n",
    "    dma = interfaces.ACTmr3(region=mask)\n",
    "    \n",
    "    # we loop over all pairs of ACT x ACT\n",
    "    for actseason0 in ['s14','s15']: # s13 doesn't have these patches\n",
    "        for array0 in ['pa1_f150', 'pa2_f150', 'pa3_f090', 'pa3_f150']:\n",
    "            \n",
    "            try:\n",
    "                actbeam = dma.get_beam(beam_ells, actseason0, patch, array0)\n",
    "                actmaps = dma.get_splits(actseason0, patch, array0, \n",
    "                                            ncomp=1, srcfree=True)\n",
    "                Cb_list = []\n",
    "                lb_list = []\n",
    "                for s0, s1 in itertools.combinations(range(nsplits),r=2):\n",
    "                    actmap0 = actmaps[0, s0, 0, :, :]\n",
    "                    actmap1 = actmaps[0, s1, 0, :, :]\n",
    "                    lb, Cb = compute_ps(actmap0, actmap1, mask, actbeam, actbeam)\n",
    "                    lb_list.append(lb)\n",
    "                    Cb_list.append(Cb)\n",
    "\n",
    "                act_act[(patch, actseason0, array0, actseason0, array0)] = (lb_list[0], \n",
    "                                                                            np.sum(Cb_list,axis=0))\n",
    "            except OSError:\n",
    "                print(\"Can't find this ACT map:\", actseason0, array0, actseason1, array1)"
   ]
  },
  {
   "cell_type": "code",
   "execution_count": 34,
   "metadata": {},
   "outputs": [],
   "source": [
    "with open('for_mat/ACT_ACT.pickle', 'wb') as handle:\n",
    "    pickle.dump(act_act, handle, protocol=pickle.HIGHEST_PROTOCOL)"
   ]
  },
  {
   "cell_type": "code",
   "execution_count": null,
   "metadata": {},
   "outputs": [],
   "source": []
  }
 ],
 "metadata": {
  "kernelspec": {
   "display_name": "Python 3",
   "language": "python",
   "name": "python3"
  },
  "language_info": {
   "codemirror_mode": {
    "name": "ipython",
    "version": 3
   },
   "file_extension": ".py",
   "mimetype": "text/x-python",
   "name": "python",
   "nbconvert_exporter": "python",
   "pygments_lexer": "ipython3",
   "version": "3.7.3"
  }
 },
 "nbformat": 4,
 "nbformat_minor": 2
}
